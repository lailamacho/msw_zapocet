{
 "cells": [
  {
   "cell_type": "markdown",
   "metadata": {},
   "source": [
    "## Úloha 09: Integrace funkce jedné proměnné\n",
    "\n",
    "srovnání metod výpočtu integrálů (trapezoid, simpson, romberg) s analytickým řešením"
   ]
  },
  {
   "cell_type": "code",
   "execution_count": 53,
   "metadata": {},
   "outputs": [
    {
     "data": {
      "image/png": "[encoded data removed]",
      "text/plain": [
       "<Figure size 500x200 with 1 Axes>"
      ]
     },
     "metadata": {},
     "output_type": "display_data"
    }
   ],
   "source": [
    "#Přesnost výsledků\n",
    "import matplotlib.pyplot as plt \n",
    "\n",
    "funkce = [\"cos(x)\", \"3*x**2 + 8*x - 3\", \"2log(x)\"]\n",
    "trapezoid = [abs(integral_1_analyticky - integral_1_1), abs(integral_2_analyticky - integral_2_1), abs(integral_3_analyticky - integral_3_1)]\n",
    "simpson = [abs(integral_1_analyticky - integral_1_2), abs(integral_2_analyticky - integral_2_2), abs(integral_3_analyticky - integral_3_2)]\n",
    "romberg = [abs(integral_1_analyticky - integral_1_3), abs(integral_2_analyticky - integral_2_3), abs(integral_3_analyticky - integral_3_3)]\n",
    "\n",
    "plt.figure(figsize=(5,2),)\n",
    "plt.scatter(funkce, trapezoid, marker=\"o\", color=\"hotpink\", alpha=0.7, label=\"trapezoid\")\n",
    "plt.scatter(funkce, simpson, marker=\"o\", color=\"mediumpurple\", alpha=0.7, label=\"simpson\")\n",
    "plt.scatter(funkce, romberg, marker=\"x\", color=\"deepskyblue\", alpha=0.7, label=\"romberg\")\n",
    "plt.grid(True)\n",
    "plt.gca().set_facecolor(\"aliceblue\")\n",
    "plt.legend()\n",
    "plt.show()"
   ]
  },
  {
   "cell_type": "code",
   "execution_count": 29,
   "metadata": {},
   "outputs": [
    {
     "name": "stdout",
     "output_type": "stream",
     "text": [
      "Metoda trapezoid: 0.01679988656479349\n",
      "Metoda simpson: 0.016813563630548825\n",
      "Metoda romberg: 2.0740337633419123e-12\n",
      "Analyticky: 0\n"
     ]
    },
    {
     "name": "stderr",
     "output_type": "stream",
     "text": [
      "C:\\Users\\parys\\AppData\\Local\\Temp\\ipykernel_21632\\2580382766.py:18: DeprecationWarning: `scipy.integrate.romberg` is deprecated as of SciPy 1.12.0and will be removed in SciPy 1.15.0. Please use`scipy.integrate.quad` instead.\n",
      "  integral_1_3 = integrate.romberg(f, a, b)\n"
     ]
    }
   ],
   "source": [
    "# FUNKCE 1\n",
    "import numpy as np\n",
    "from scipy import integrate\n",
    "\n",
    "\n",
    "def f(x):\n",
    "    return np.cos(x)\n",
    "\n",
    "a = 0\n",
    "b = 2*np.pi\n",
    "dx = 0.1\n",
    "\n",
    "x = np.arange(a, b+dx, dx)\n",
    "y = f(x)\n",
    "\n",
    "integral_1_1 = integrate.trapezoid(y, x=x)\n",
    "integral_1_2 = integrate.simpson(y=y, x=x)\n",
    "integral_1_3 = integrate.romberg(f, a, b)\n",
    "\n",
    "integral_1_analyticky = 0\n",
    "\n",
    "print(f\"Metoda trapezoid: {integral_1_1}\")\n",
    "print(f\"Metoda simpson: {integral_1_2}\")\n",
    "print(f\"Metoda romberg: {integral_1_3}\")\n",
    "print(f\"Analyticky: {integral_1_analyticky}\")\n"
   ]
  },
  {
   "cell_type": "code",
   "execution_count": 27,
   "metadata": {},
   "outputs": [
    {
     "name": "stdout",
     "output_type": "stream",
     "text": [
      "Metoda trapezoid: 19.0\n",
      "Metoda simpson: 18.0\n",
      "Metoda romberg: 18.0\n",
      "Analyticky: 2\n"
     ]
    },
    {
     "name": "stderr",
     "output_type": "stream",
     "text": [
      "C:\\Users\\parys\\AppData\\Local\\Temp\\ipykernel_21632\\2877383305.py:14: DeprecationWarning: `scipy.integrate.romberg` is deprecated as of SciPy 1.12.0and will be removed in SciPy 1.15.0. Please use`scipy.integrate.quad` instead.\n",
      "  integral_2_3 = integrate.romberg(f, a, b)\n"
     ]
    }
   ],
   "source": [
    "# FUNKCE 2\n",
    "def f(x):\n",
    "    return 3*x**2 + 8*x - 3\n",
    "\n",
    "a = 0\n",
    "b = 2\n",
    "dx = 0.1\n",
    "\n",
    "x = np.arange(a, b+dx, dx)\n",
    "y = f(x)\n",
    "\n",
    "integral_2_1 = integrate.trapezoid(y, x=x)\n",
    "integral_2_2 = integrate.simpson(y=y, x=x)\n",
    "integral_2_3 = integrate.romberg(f, a, b)\n",
    "\n",
    "integral_2_analyticky = 18\n",
    "\n",
    "print(f\"Metoda trapezoid: {integral_2_1}\")\n",
    "print(f\"Metoda simpson: {integral_2_2}\")\n",
    "print(f\"Metoda romberg: {integral_2_3}\")\n",
    "print(f\"Analyticky: {integral_2_analyticky}\")"
   ]
  },
  {
   "cell_type": "code",
   "execution_count": 31,
   "metadata": {},
   "outputs": [
    {
     "name": "stdout",
     "output_type": "stream",
     "text": [
      "Metoda trapezoid: 8.093046340543738\n",
      "Metoda simpson: 8.094376950685058\n",
      "Metoda romberg: 8.094379124054104\n",
      "Analyticky: 8.094379124341003\n"
     ]
    },
    {
     "name": "stderr",
     "output_type": "stream",
     "text": [
      "C:\\Users\\parys\\AppData\\Local\\Temp\\ipykernel_21632\\1788196952.py:14: DeprecationWarning: `scipy.integrate.romberg` is deprecated as of SciPy 1.12.0and will be removed in SciPy 1.15.0. Please use`scipy.integrate.quad` instead.\n",
      "  integral_3_3 = integrate.romberg(f, a, b)\n"
     ]
    }
   ],
   "source": [
    "# FUNKCE 3\n",
    "def f(x):\n",
    "    return 2*np.log(x)\n",
    "\n",
    "a = 1\n",
    "b = 5\n",
    "dx = 0.1\n",
    "\n",
    "x = np.arange(a, b+dx, dx)\n",
    "y = f(x)\n",
    "\n",
    "integral_3_1 = integrate.trapezoid(y, x=x)\n",
    "integral_3_2 = integrate.simpson(y=y, x=x)\n",
    "integral_3_3 = integrate.romberg(f, a, b)\n",
    "\n",
    "integral_3_analyticky = 10 * np.log(5) - 8\n",
    "\n",
    "print(f\"Metoda trapezoid: {integral_3_1}\")\n",
    "print(f\"Metoda simpson: {integral_3_2}\")\n",
    "print(f\"Metoda romberg: {integral_3_3}\")\n",
    "print(f\"Analyticky: {integral_3_analyticky}\")\n"
   ]
  }
 ],
 "metadata": {
  "kernelspec": {
   "display_name": "Python 3",
   "language": "python",
   "name": "python3"
  },
  "language_info": {
   "codemirror_mode": {
    "name": "ipython",
    "version": 3
   },
   "file_extension": ".py",
   "mimetype": "text/x-python",
   "name": "python",
   "nbconvert_exporter": "python",
   "pygments_lexer": "ipython3",
   "version": "3.12.1"
  }
 },
 "nbformat": 4,
 "nbformat_minor": 2
}
