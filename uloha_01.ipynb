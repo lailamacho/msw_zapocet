{
 "cells": [
  {
   "cell_type": "markdown",
   "metadata": {},
   "source": [
    "## Úloha 01: Knihovny a moduly pro matematické výpočty\n"
   ]
  },
  {
   "cell_type": "markdown",
   "metadata": {},
   "source": [
    "Srovnání výpočtu Python a Numpy\n",
    "\n",
    "1. odmocnina\n",
    "2. skalární součet\n",
    "3. stopa matice\n",
    "4. determinant\n",
    "5. norma vektoru"
   ]
  },
  {
   "cell_type": "code",
   "execution_count": 77,
   "metadata": {},
   "outputs": [
    {
     "data": {
      "image/png": "[encoded data removed]",
      "text/plain": [
       "<Figure size 400x500 with 1 Axes>"
      ]
     },
     "metadata": {},
     "output_type": "display_data"
    }
   ],
   "source": [
    "import matplotlib.pyplot as plt\n",
    "\n",
    "ulohy = [1, 2, 3, 4, 5]\n",
    "casy_python = [cas_1_1, cas_2_1, cas_3_1, cas_4_1, cas_5_1]\n",
    "casy_numpy = [cas_1_2, cas_2_2, cas_3_2, cas_4_2, cas_5_2]\n",
    "\n",
    "\n",
    "\n",
    "plt.figure(figsize=(4,5),)\n",
    "plt.scatter(ulohy, casy_python, marker=\"o\", color=\"blue\", label=\"Python\")\n",
    "plt.scatter(ulohy, casy_numpy, marker=\"o\", color=\"green\", label=\"Numpy\")\n",
    "plt.xlabel(\"číslo úlohy\")\n",
    "plt.ylabel(\"čas [sekundy]\")\n",
    "plt.gca().set_facecolor(\"azure\")\n",
    "plt.grid(True)"
   ]
  },
  {
   "cell_type": "code",
   "execution_count": 60,
   "metadata": {},
   "outputs": [
    {
     "name": "stdout",
     "output_type": "stream",
     "text": [
      "Výpočet odmocniny: 4.7622473686275475; čas výpočtu: 6.0999998822808266e-05 sekund\n"
     ]
    }
   ],
   "source": [
    "# 1.1 odmocnicna - Python\n",
    "\n",
    "import time\n",
    "\n",
    "t1 = time.perf_counter()\n",
    "\n",
    "def odmocnina(x):\n",
    "    return x**0.5\n",
    "\n",
    "t2 = time.perf_counter()\n",
    "\n",
    "cas_1_1 = t2 - t1\n",
    "\n",
    "print(f\"Výpočet odmocniny: {odmocnina(22.679)}; čas výpočtu: {cas_1_1} sekund\")\n"
   ]
  },
  {
   "cell_type": "code",
   "execution_count": 61,
   "metadata": {},
   "outputs": [
    {
     "name": "stdout",
     "output_type": "stream",
     "text": [
      "Výpočet odmocniny: 4.7622473686275475; čas výpočtu: 5.059991963207722e-05 sekund\n"
     ]
    }
   ],
   "source": [
    "# 1.2 odmocnina - Numpy\n",
    "\n",
    "import numpy as np\n",
    "import time\n",
    "\n",
    "t1 = time.perf_counter()\n",
    "\n",
    "def odmocnina(x):\n",
    "    return np.sqrt(x)\n",
    "\n",
    "t2 = time.perf_counter()\n",
    "\n",
    "cas_1_2 = t2 - t1\n",
    "\n",
    "print(f\"Výpočet odmocniny: {odmocnina(22.679)}; čas výpočtu: {cas_1_2} sekund\")"
   ]
  },
  {
   "cell_type": "code",
   "execution_count": 62,
   "metadata": {},
   "outputs": [
    {
     "name": "stdout",
     "output_type": "stream",
     "text": [
      "Výpočet skalárního součinu: 32; čas výpočtu: 0.00011659995652735233 sekund\n"
     ]
    }
   ],
   "source": [
    "# 2.1 skalární součin - Python\n",
    "\n",
    "import time\n",
    "from typing import List\n",
    "\n",
    "t1 = time.perf_counter()\n",
    "\n",
    "def skalarni_soucin(s1: List[int], s2:List[int]):\n",
    "    assert len(s1) == len(s2), \"Vektory nemají stejnou dimenzi.\"\n",
    "\n",
    "    skalar = 0\n",
    "    for i in range(len(s1)):\n",
    "        skalar += s1[i]*s2[i]\n",
    "    return skalar\n",
    "\n",
    "t2 = time.perf_counter()\n",
    "\n",
    "cas_2_1 = t2 - t1\n",
    "\n",
    "u = [1, 2, 3]\n",
    "v = [4, 5, 6]\n",
    "print(f\"Výpočet skalárního součinu: {skalarni_soucin(u, v)}; čas výpočtu: {cas_2_1} sekund\")\n",
    "    "
   ]
  },
  {
   "cell_type": "code",
   "execution_count": 63,
   "metadata": {},
   "outputs": [
    {
     "name": "stdout",
     "output_type": "stream",
     "text": [
      "Výpočet skalárního součinu: 32; čas výpočtu: 7.820012979209423e-05 sekund\n"
     ]
    }
   ],
   "source": [
    "# 2.2 skalární součin - Numpy\n",
    "\n",
    "import time\n",
    "\n",
    "t1 = time.perf_counter()\n",
    "\n",
    "def skalarni_soucin(s1: List[int], s2:List[int]):\n",
    "    skalar = np.dot(s1, s2)\n",
    "    return skalar\n",
    "\n",
    "t2 = time.perf_counter()\n",
    "\n",
    "cas_2_2 = t2 - t1\n",
    "\n",
    "u = [1, 2, 3]\n",
    "v = [4, 5, 6]\n",
    "print(f\"Výpočet skalárního součinu: {skalarni_soucin(u, v)}; čas výpočtu: {cas_2_2} sekund\")\n",
    "    "
   ]
  },
  {
   "cell_type": "code",
   "execution_count": 64,
   "metadata": {},
   "outputs": [
    {
     "name": "stdout",
     "output_type": "stream",
     "text": [
      "Výpočet součtu na diagonále matice: 15; čas výpočtu 0.00018610013648867607 sekund\n"
     ]
    }
   ],
   "source": [
    "# 3.1 stopa matice (součet prvků na diagonále matice) - Python\n",
    "from typing import List\n",
    "import time\n",
    "\n",
    "t1 = time.perf_counter()\n",
    "\n",
    "def soucet_diagonaly(s: List[List]):\n",
    "    soucet = 0\n",
    "    for i, x in enumerate(s):\n",
    "        soucet += s[i][i]\n",
    "    return soucet\n",
    "\n",
    "t2 = time.perf_counter()\n",
    "\n",
    "cas_3_1 = t2 - t1\n",
    "\n",
    "m = [[1, 2, 3], [4, 5, 6], [7, 8, 9]]\n",
    "print(f\"Výpočet součtu na diagonále matice: {soucet_diagonaly(m)}; čas výpočtu {cas_3_1} sekund\")"
   ]
  },
  {
   "cell_type": "code",
   "execution_count": 65,
   "metadata": {},
   "outputs": [
    {
     "name": "stdout",
     "output_type": "stream",
     "text": [
      "Výpočet součtu na diagonále matice: 15; čas výpočtu 6.0099875554442406e-05 sekund\n"
     ]
    }
   ],
   "source": [
    "# 3.2 stopa matice (součet prvků na diagonále matice) - Numpy\n",
    "import time\n",
    "import numpy as np\n",
    "\n",
    "t1 = time.perf_counter()\n",
    "\n",
    "def soucet_diagonaly(m):\n",
    "    soucet = np.trace(m)\n",
    "    return soucet\n",
    "\n",
    "t2 = time.perf_counter()\n",
    "\n",
    "cas_3_2 = t2 - t1\n",
    "\n",
    "m = np.array([[1, 2, 3], [4, 5, 6], [7, 8, 9]])\n",
    "print(f\"Výpočet součtu na diagonále matice: {soucet_diagonaly(m)}; čas výpočtu {cas_3_2} sekund\")"
   ]
  },
  {
   "cell_type": "code",
   "execution_count": 66,
   "metadata": {},
   "outputs": [
    {
     "name": "stdout",
     "output_type": "stream",
     "text": [
      "Výpočet determinantu: -2; čas výpočtu 0.00022249994799494743 sekund\n"
     ]
    }
   ],
   "source": [
    "# 4.1 determinant (pouze pro matice 1x1, 2x2, 3x3)\n",
    "\n",
    "import time\n",
    "\n",
    "t1 = time.perf_counter()\n",
    "\n",
    "def det(a):\n",
    "    a.append(a[0])\n",
    "    a.append(a[1])\n",
    "\n",
    "    leva_strana = 0\n",
    "    for i in range(0, len(a)-2):\n",
    "        y = 1     \n",
    "        for j in range(0, len(a)-2):    \n",
    "            y *= a[i+j][j]      \n",
    "        leva_strana += y\n",
    "\n",
    "    prava_strana = 0\n",
    "    for i in range(0, len(a)-2):\n",
    "        y = 1\n",
    "        z = 0\n",
    "        for j in range(2, -1, -1):  \n",
    "            y *= a[i+z][j]  \n",
    "            z += 1        \n",
    "        z += 1\n",
    "        prava_strana += y  \n",
    "\n",
    "    return (leva_strana - prava_strana)\n",
    "\n",
    "def determinant(m):\n",
    "    if len(m) == 1:\n",
    "        determinant = m\n",
    "    elif len(m) == 2:\n",
    "        determinant = m[0][0] * m[1][1] - m[0][1] * m[1][0]\n",
    "    elif len(m) == 3:\n",
    "        determinant = det(m)\n",
    "\n",
    "    return determinant\n",
    "\n",
    "t2 = time.perf_counter()\n",
    "\n",
    "cas_4_1 = t2 - t1\n",
    "\n",
    "matice = [[1, 2, 3], [4, 5, 6], [7, 8, 9]]\n",
    "matice2 = [[1, 2], [3, 4]]\n",
    "print(f\"Výpočet determinantu: {determinant(matice2)}; čas výpočtu {cas_4_1} sekund\")"
   ]
  },
  {
   "cell_type": "code",
   "execution_count": 67,
   "metadata": {},
   "outputs": [
    {
     "name": "stdout",
     "output_type": "stream",
     "text": [
      "Výpočet determinantu: 0.0; čas výpočtu 5.62998466193676e-05 sekund\n"
     ]
    }
   ],
   "source": [
    "# 4.2 determinant - Numpy\n",
    "\n",
    "import time\n",
    "import numpy as np\n",
    "\n",
    "t1 = time.perf_counter()\n",
    "\n",
    "def determinant(a):\n",
    "    det = np.linalg.det(a)\n",
    "    return det\n",
    "\n",
    "t2 = time.perf_counter()\n",
    "\n",
    "cas_4_2 = t2 - t1\n",
    "\n",
    "matice = np.array([[1, 2, 3], [4, 5, 6], [7, 8, 9]])\n",
    "print(f\"Výpočet determinantu: {determinant(matice)}; čas výpočtu {cas_4_2} sekund\")"
   ]
  },
  {
   "cell_type": "code",
   "execution_count": 68,
   "metadata": {},
   "outputs": [
    {
     "name": "stdout",
     "output_type": "stream",
     "text": [
      "Výpočet: 3.7416573867739413; čas výpočtu 9.290012530982494e-05 sekund\n"
     ]
    }
   ],
   "source": [
    "# 5.1 norma vektoru - Python\n",
    "import time\n",
    "\n",
    "t1 = time.perf_counter()\n",
    "\n",
    "def norma(a):\n",
    "    y = 0\n",
    "    for i in range(len(a)):\n",
    "        y += a[i]**2\n",
    "    norma = y**0.5\n",
    "    return norma\n",
    "\n",
    "t2 = time.perf_counter()\n",
    "\n",
    "cas_5_1 = t2 - t1\n",
    "\n",
    "v = [1, 2, 3]\n",
    "print(f\"Výpočet: {norma(v)}; čas výpočtu {cas_5_1} sekund\")"
   ]
  },
  {
   "cell_type": "code",
   "execution_count": 69,
   "metadata": {},
   "outputs": [
    {
     "name": "stdout",
     "output_type": "stream",
     "text": [
      "Výpočet: 3.7416573867739413; čas výpočtu 5.550007335841656e-05 sekund\n"
     ]
    }
   ],
   "source": [
    "# 5.2 norma vektoru - Numpy\n",
    "import time\n",
    "import numpy as np\n",
    "\n",
    "t1 = time.perf_counter()\n",
    "\n",
    "def norma(a):\n",
    "    norma = np.linalg.norm(a)\n",
    "    return norma\n",
    "\n",
    "t2 = time.perf_counter()\n",
    "\n",
    "cas_5_2 = t2 - t1\n",
    "\n",
    "v = [1, 2, 3]\n",
    "print(f\"Výpočet: {norma(v)}; čas výpočtu {cas_5_2} sekund\")"
   ]
  }
 ],
 "metadata": {
  "kernelspec": {
   "display_name": "Python 3",
   "language": "python",
   "name": "python3"
  },
  "language_info": {
   "codemirror_mode": {
    "name": "ipython",
    "version": 3
   },
   "file_extension": ".py",
   "mimetype": "text/x-python",
   "name": "python",
   "nbconvert_exporter": "python",
   "pygments_lexer": "ipython3",
   "version": "3.12.1"
  }
 },
 "nbformat": 4,
 "nbformat_minor": 2
}
